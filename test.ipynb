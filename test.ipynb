{
 "cells": [
  {
   "cell_type": "code",
   "execution_count": null,
   "metadata": {},
   "outputs": [],
   "source": [
    "from utils.data import transform\n",
    "import pandas as pd\n",
    "import numpy as np\n",
    "from .utils.helper import load_config\n",
    "\n",
    "def load_data(data_path: str) -> pd.DataFrame:\n",
    "    return pd.read_csv(\n",
    "        data_path,\n",
    "        sep=\"::\",\n",
    "        header=None,\n",
    "        names=[\"user\", \"item\", \"rating\"],\n",
    "        usecols=[0, 1, 2],\n",
    "        dtype={0: np.int32, 1: np.int32, 2: np.int32},\n",
    "    )\n",
    "\n",
    "CONFIG_PATH = \"./config/config.yaml\"\n",
    "config = load_config(CONFIG_PATH)\n",
    "params = config[\"params\"]\n",
    "\n",
    "# Load data\n",
    "ratings = load_data(data_path=config[\"data_path\"])\n",
    "transform(ratings)"
   ]
  }
 ],
 "metadata": {
  "language_info": {
   "name": "python"
  },
  "orig_nbformat": 4
 },
 "nbformat": 4,
 "nbformat_minor": 2
}
